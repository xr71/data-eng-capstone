{
 "cells": [
  {
   "cell_type": "markdown",
   "metadata": {},
   "source": [
    "# Project Title\n",
    "### Data Engineering Capstone Project\n",
    "\n",
    "#### Project Summary\n",
    "--describe your project at a high level--\n",
    "\n",
    "The project follows the follow steps:\n",
    "* Step 1: Scope the Project and Gather Data\n",
    "* Step 2: Explore and Assess the Data\n",
    "* Step 3: Define the Data Model\n",
    "* Step 4: Run ETL to Model the Data\n",
    "* Step 5: Complete Project Write Up"
   ]
  },
  {
   "cell_type": "code",
   "execution_count": 1,
   "metadata": {},
   "outputs": [],
   "source": [
    "# Do all imports and installs here\n",
    "import pandas as pd"
   ]
  },
  {
   "cell_type": "markdown",
   "metadata": {},
   "source": [
    "### Step 1: Scope the Project and Gather Data\n",
    "\n",
    "#### Scope \n",
    "Explain what you plan to do in the project in more detail. What data do you use? What is your end solution look like? What tools did you use? etc>\n",
    "\n",
    "#### Describe and Gather Data \n",
    "Describe the data sets you're using. Where did it come from? What type of information is included? "
   ]
  },
  {
   "cell_type": "code",
   "execution_count": 2,
   "metadata": {},
   "outputs": [
    {
     "name": "stdout",
     "output_type": "stream",
     "text": [
      "18-83510-I94-Data-2016\tI94_SAS_Labels_Descriptions.SAS\n"
     ]
    }
   ],
   "source": [
    "!ls ../../data/"
   ]
  },
  {
   "cell_type": "code",
   "execution_count": 3,
   "metadata": {},
   "outputs": [
    {
     "name": "stdout",
     "output_type": "stream",
     "text": [
      "GlobalLandTemperaturesByCity.csv\n"
     ]
    }
   ],
   "source": [
    "!ls ../../data2/"
   ]
  },
  {
   "cell_type": "code",
   "execution_count": 5,
   "metadata": {},
   "outputs": [
    {
     "name": "stdout",
     "output_type": "stream",
     "text": [
      "i94_apr16_sub.sas7bdat\n",
      "i94_aug16_sub.sas7bdat\n",
      "i94_dec16_sub.sas7bdat\n",
      "i94_feb16_sub.sas7bdat\n",
      "i94_jan16_sub.sas7bdat\n",
      "i94_jul16_sub.sas7bdat\n",
      "i94_jun16_sub.sas7bdat\n",
      "i94_mar16_sub.sas7bdat\n",
      "i94_may16_sub.sas7bdat\n",
      "i94_nov16_sub.sas7bdat\n"
     ]
    }
   ],
   "source": [
    "!ls ../../data/18-83510-I94-Data-2016/ | head"
   ]
  },
  {
   "cell_type": "code",
   "execution_count": 6,
   "metadata": {},
   "outputs": [],
   "source": [
    "# Read in the data here\n",
    "fname = '../../data/18-83510-I94-Data-2016/i94_apr16_sub.sas7bdat'\n",
    "df = pd.read_sas(fname, 'sas7bdat', encoding=\"ISO-8859-1\")"
   ]
  },
  {
   "cell_type": "code",
   "execution_count": 7,
   "metadata": {},
   "outputs": [
    {
     "data": {
      "text/html": [
       "<div>\n",
       "<style scoped>\n",
       "    .dataframe tbody tr th:only-of-type {\n",
       "        vertical-align: middle;\n",
       "    }\n",
       "\n",
       "    .dataframe tbody tr th {\n",
       "        vertical-align: top;\n",
       "    }\n",
       "\n",
       "    .dataframe thead th {\n",
       "        text-align: right;\n",
       "    }\n",
       "</style>\n",
       "<table border=\"1\" class=\"dataframe\">\n",
       "  <thead>\n",
       "    <tr style=\"text-align: right;\">\n",
       "      <th></th>\n",
       "      <th>cicid</th>\n",
       "      <th>i94yr</th>\n",
       "      <th>i94mon</th>\n",
       "      <th>i94cit</th>\n",
       "      <th>i94res</th>\n",
       "      <th>i94port</th>\n",
       "      <th>arrdate</th>\n",
       "      <th>i94mode</th>\n",
       "      <th>i94addr</th>\n",
       "      <th>depdate</th>\n",
       "      <th>...</th>\n",
       "      <th>entdepu</th>\n",
       "      <th>matflag</th>\n",
       "      <th>biryear</th>\n",
       "      <th>dtaddto</th>\n",
       "      <th>gender</th>\n",
       "      <th>insnum</th>\n",
       "      <th>airline</th>\n",
       "      <th>admnum</th>\n",
       "      <th>fltno</th>\n",
       "      <th>visatype</th>\n",
       "    </tr>\n",
       "  </thead>\n",
       "  <tbody>\n",
       "    <tr>\n",
       "      <th>0</th>\n",
       "      <td>6.0</td>\n",
       "      <td>2016.0</td>\n",
       "      <td>4.0</td>\n",
       "      <td>692.0</td>\n",
       "      <td>692.0</td>\n",
       "      <td>XXX</td>\n",
       "      <td>20573.0</td>\n",
       "      <td>NaN</td>\n",
       "      <td>NaN</td>\n",
       "      <td>NaN</td>\n",
       "      <td>...</td>\n",
       "      <td>U</td>\n",
       "      <td>NaN</td>\n",
       "      <td>1979.0</td>\n",
       "      <td>10282016</td>\n",
       "      <td>NaN</td>\n",
       "      <td>NaN</td>\n",
       "      <td>NaN</td>\n",
       "      <td>1.897628e+09</td>\n",
       "      <td>NaN</td>\n",
       "      <td>B2</td>\n",
       "    </tr>\n",
       "    <tr>\n",
       "      <th>1</th>\n",
       "      <td>7.0</td>\n",
       "      <td>2016.0</td>\n",
       "      <td>4.0</td>\n",
       "      <td>254.0</td>\n",
       "      <td>276.0</td>\n",
       "      <td>ATL</td>\n",
       "      <td>20551.0</td>\n",
       "      <td>1.0</td>\n",
       "      <td>AL</td>\n",
       "      <td>NaN</td>\n",
       "      <td>...</td>\n",
       "      <td>Y</td>\n",
       "      <td>NaN</td>\n",
       "      <td>1991.0</td>\n",
       "      <td>D/S</td>\n",
       "      <td>M</td>\n",
       "      <td>NaN</td>\n",
       "      <td>NaN</td>\n",
       "      <td>3.736796e+09</td>\n",
       "      <td>00296</td>\n",
       "      <td>F1</td>\n",
       "    </tr>\n",
       "    <tr>\n",
       "      <th>2</th>\n",
       "      <td>15.0</td>\n",
       "      <td>2016.0</td>\n",
       "      <td>4.0</td>\n",
       "      <td>101.0</td>\n",
       "      <td>101.0</td>\n",
       "      <td>WAS</td>\n",
       "      <td>20545.0</td>\n",
       "      <td>1.0</td>\n",
       "      <td>MI</td>\n",
       "      <td>20691.0</td>\n",
       "      <td>...</td>\n",
       "      <td>NaN</td>\n",
       "      <td>M</td>\n",
       "      <td>1961.0</td>\n",
       "      <td>09302016</td>\n",
       "      <td>M</td>\n",
       "      <td>NaN</td>\n",
       "      <td>OS</td>\n",
       "      <td>6.666432e+08</td>\n",
       "      <td>93</td>\n",
       "      <td>B2</td>\n",
       "    </tr>\n",
       "    <tr>\n",
       "      <th>3</th>\n",
       "      <td>16.0</td>\n",
       "      <td>2016.0</td>\n",
       "      <td>4.0</td>\n",
       "      <td>101.0</td>\n",
       "      <td>101.0</td>\n",
       "      <td>NYC</td>\n",
       "      <td>20545.0</td>\n",
       "      <td>1.0</td>\n",
       "      <td>MA</td>\n",
       "      <td>20567.0</td>\n",
       "      <td>...</td>\n",
       "      <td>NaN</td>\n",
       "      <td>M</td>\n",
       "      <td>1988.0</td>\n",
       "      <td>09302016</td>\n",
       "      <td>NaN</td>\n",
       "      <td>NaN</td>\n",
       "      <td>AA</td>\n",
       "      <td>9.246846e+10</td>\n",
       "      <td>00199</td>\n",
       "      <td>B2</td>\n",
       "    </tr>\n",
       "    <tr>\n",
       "      <th>4</th>\n",
       "      <td>17.0</td>\n",
       "      <td>2016.0</td>\n",
       "      <td>4.0</td>\n",
       "      <td>101.0</td>\n",
       "      <td>101.0</td>\n",
       "      <td>NYC</td>\n",
       "      <td>20545.0</td>\n",
       "      <td>1.0</td>\n",
       "      <td>MA</td>\n",
       "      <td>20567.0</td>\n",
       "      <td>...</td>\n",
       "      <td>NaN</td>\n",
       "      <td>M</td>\n",
       "      <td>2012.0</td>\n",
       "      <td>09302016</td>\n",
       "      <td>NaN</td>\n",
       "      <td>NaN</td>\n",
       "      <td>AA</td>\n",
       "      <td>9.246846e+10</td>\n",
       "      <td>00199</td>\n",
       "      <td>B2</td>\n",
       "    </tr>\n",
       "  </tbody>\n",
       "</table>\n",
       "<p>5 rows × 28 columns</p>\n",
       "</div>"
      ],
      "text/plain": [
       "   cicid   i94yr  i94mon  i94cit  i94res i94port  arrdate  i94mode i94addr  \\\n",
       "0    6.0  2016.0     4.0   692.0   692.0     XXX  20573.0      NaN     NaN   \n",
       "1    7.0  2016.0     4.0   254.0   276.0     ATL  20551.0      1.0      AL   \n",
       "2   15.0  2016.0     4.0   101.0   101.0     WAS  20545.0      1.0      MI   \n",
       "3   16.0  2016.0     4.0   101.0   101.0     NYC  20545.0      1.0      MA   \n",
       "4   17.0  2016.0     4.0   101.0   101.0     NYC  20545.0      1.0      MA   \n",
       "\n",
       "   depdate   ...     entdepu  matflag  biryear   dtaddto gender insnum  \\\n",
       "0      NaN   ...           U      NaN   1979.0  10282016    NaN    NaN   \n",
       "1      NaN   ...           Y      NaN   1991.0       D/S      M    NaN   \n",
       "2  20691.0   ...         NaN        M   1961.0  09302016      M    NaN   \n",
       "3  20567.0   ...         NaN        M   1988.0  09302016    NaN    NaN   \n",
       "4  20567.0   ...         NaN        M   2012.0  09302016    NaN    NaN   \n",
       "\n",
       "  airline        admnum  fltno visatype  \n",
       "0     NaN  1.897628e+09    NaN       B2  \n",
       "1     NaN  3.736796e+09  00296       F1  \n",
       "2      OS  6.666432e+08     93       B2  \n",
       "3      AA  9.246846e+10  00199       B2  \n",
       "4      AA  9.246846e+10  00199       B2  \n",
       "\n",
       "[5 rows x 28 columns]"
      ]
     },
     "execution_count": 7,
     "metadata": {},
     "output_type": "execute_result"
    }
   ],
   "source": [
    "df.head()"
   ]
  },
  {
   "cell_type": "code",
   "execution_count": 1,
   "metadata": {},
   "outputs": [],
   "source": [
    "from pyspark.sql import SparkSession\n",
    "spark = SparkSession.builder.\\\n",
    "config(\"spark.jars.packages\",\"saurfang:spark-sas7bdat:2.0.0-s_2.11\")\\\n",
    ".enableHiveSupport().getOrCreate()\n",
    "# df_spark =spark.read.format('com.github.saurfang.sas.spark').load('../../data/18-83510-I94-Data-2016/i94_apr16_sub.sas7bdat')\n"
   ]
  },
  {
   "cell_type": "code",
   "execution_count": 2,
   "metadata": {},
   "outputs": [],
   "source": [
    "import os\n",
    "import glob"
   ]
  },
  {
   "cell_type": "code",
   "execution_count": 3,
   "metadata": {},
   "outputs": [
    {
     "data": {
      "text/plain": [
       "['feb16',\n",
       " 'jun16',\n",
       " 'dec16',\n",
       " 'aug16',\n",
       " 'nov16',\n",
       " 'jul16',\n",
       " 'apr16',\n",
       " 'jan16',\n",
       " 'mar16',\n",
       " 'may16',\n",
       " 'sep16',\n",
       " 'oct16']"
      ]
     },
     "execution_count": 3,
     "metadata": {},
     "output_type": "execute_result"
    }
   ],
   "source": [
    "os.listdir(\"./output_data/dim_immigration/\")"
   ]
  },
  {
   "cell_type": "code",
   "execution_count": 7,
   "metadata": {},
   "outputs": [],
   "source": [
    "# #write to parquet\n",
    "# df_spark.write.parquet(\"sas_data\")\n",
    "# df_spark=spark.read.parquet(\"sas_data\")"
   ]
  },
  {
   "cell_type": "markdown",
   "metadata": {},
   "source": [
    "### Step 2: Explore and Assess the Data\n",
    "#### Explore the Data \n",
    "Identify data quality issues, like missing values, duplicate data, etc.\n",
    "\n",
    "#### Cleaning Steps\n",
    "Document steps necessary to clean the data"
   ]
  },
  {
   "cell_type": "code",
   "execution_count": 2,
   "metadata": {},
   "outputs": [
    {
     "name": "stdout",
     "output_type": "stream",
     "text": [
      "+-----+------+------+------+------+-------+-------+-------+-------+-------+------+-------+-----+--------+--------+-----+-------+-------+-------+-------+-------+--------+------+------+-------+-------------+-----+--------+\n",
      "|cicid| i94yr|i94mon|i94cit|i94res|i94port|arrdate|i94mode|i94addr|depdate|i94bir|i94visa|count|dtadfile|visapost|occup|entdepa|entdepd|entdepu|matflag|biryear| dtaddto|gender|insnum|airline|       admnum|fltno|visatype|\n",
      "+-----+------+------+------+------+-------+-------+-------+-------+-------+------+-------+-----+--------+--------+-----+-------+-------+-------+-------+-------+--------+------+------+-------+-------------+-----+--------+\n",
      "|  6.0|2016.0|   4.0| 692.0| 692.0|    XXX|20573.0|   null|   null|   null|  37.0|    2.0|  1.0|    null|    null| null|      T|   null|      U|   null| 1979.0|10282016|  null|  null|   null|1.897628485E9| null|      B2|\n",
      "|  7.0|2016.0|   4.0| 254.0| 276.0|    ATL|20551.0|    1.0|     AL|   null|  25.0|    3.0|  1.0|20130811|     SEO| null|      G|   null|      Y|   null| 1991.0|     D/S|     M|  null|   null| 3.73679633E9|00296|      F1|\n",
      "+-----+------+------+------+------+-------+-------+-------+-------+-------+------+-------+-----+--------+--------+-----+-------+-------+-------+-------+-------+--------+------+------+-------+-------------+-----+--------+\n",
      "only showing top 2 rows\n",
      "\n"
     ]
    }
   ],
   "source": [
    "# Performing cleaning tasks here\n",
    "\n",
    "df_spark.show(2)"
   ]
  },
  {
   "cell_type": "code",
   "execution_count": 3,
   "metadata": {},
   "outputs": [
    {
     "name": "stdout",
     "output_type": "stream",
     "text": [
      "-RECORD 0-----------------\n",
      " cicid    | 6.0           \n",
      " i94yr    | 2016.0        \n",
      " i94mon   | 4.0           \n",
      " i94cit   | 692.0         \n",
      " i94res   | 692.0         \n",
      " i94port  | XXX           \n",
      " arrdate  | 20573.0       \n",
      " i94mode  | null          \n",
      " i94addr  | null          \n",
      " depdate  | null          \n",
      " i94bir   | 37.0          \n",
      " i94visa  | 2.0           \n",
      " count    | 1.0           \n",
      " dtadfile | null          \n",
      " visapost | null          \n",
      " occup    | null          \n",
      " entdepa  | T             \n",
      " entdepd  | null          \n",
      " entdepu  | U             \n",
      " matflag  | null          \n",
      " biryear  | 1979.0        \n",
      " dtaddto  | 10282016      \n",
      " gender   | null          \n",
      " insnum   | null          \n",
      " airline  | null          \n",
      " admnum   | 1.897628485E9 \n",
      " fltno    | null          \n",
      " visatype | B2            \n",
      "only showing top 1 row\n",
      "\n"
     ]
    }
   ],
   "source": [
    "df_spark.show(1, vertical=True)"
   ]
  },
  {
   "cell_type": "code",
   "execution_count": 14,
   "metadata": {},
   "outputs": [
    {
     "name": "stdout",
     "output_type": "stream",
     "text": [
      "part-00000-b9542815-7a8d-45fc-9c67-c9c5007ad0d4-c000.snappy.parquet\n",
      "part-00001-b9542815-7a8d-45fc-9c67-c9c5007ad0d4-c000.snappy.parquet\n",
      "part-00002-b9542815-7a8d-45fc-9c67-c9c5007ad0d4-c000.snappy.parquet\n",
      "part-00003-b9542815-7a8d-45fc-9c67-c9c5007ad0d4-c000.snappy.parquet\n",
      "part-00004-b9542815-7a8d-45fc-9c67-c9c5007ad0d4-c000.snappy.parquet\n",
      "part-00005-b9542815-7a8d-45fc-9c67-c9c5007ad0d4-c000.snappy.parquet\n",
      "part-00006-b9542815-7a8d-45fc-9c67-c9c5007ad0d4-c000.snappy.parquet\n",
      "part-00007-b9542815-7a8d-45fc-9c67-c9c5007ad0d4-c000.snappy.parquet\n",
      "part-00008-b9542815-7a8d-45fc-9c67-c9c5007ad0d4-c000.snappy.parquet\n",
      "part-00009-b9542815-7a8d-45fc-9c67-c9c5007ad0d4-c000.snappy.parquet\n",
      "part-00010-b9542815-7a8d-45fc-9c67-c9c5007ad0d4-c000.snappy.parquet\n",
      "part-00011-b9542815-7a8d-45fc-9c67-c9c5007ad0d4-c000.snappy.parquet\n",
      "part-00012-b9542815-7a8d-45fc-9c67-c9c5007ad0d4-c000.snappy.parquet\n",
      "part-00013-b9542815-7a8d-45fc-9c67-c9c5007ad0d4-c000.snappy.parquet\n",
      "_SUCCESS\n"
     ]
    }
   ],
   "source": [
    "!ls sas_data/"
   ]
  },
  {
   "cell_type": "code",
   "execution_count": 4,
   "metadata": {},
   "outputs": [
    {
     "data": {
      "text/plain": [
       "3096313"
      ]
     },
     "execution_count": 4,
     "metadata": {},
     "output_type": "execute_result"
    }
   ],
   "source": [
    "df_spark.count()"
   ]
  },
  {
   "cell_type": "code",
   "execution_count": 9,
   "metadata": {},
   "outputs": [
    {
     "name": "stdout",
     "output_type": "stream",
     "text": [
      "root\n",
      " |-- cicid: double (nullable = true)\n",
      " |-- i94yr: double (nullable = true)\n",
      " |-- i94mon: double (nullable = true)\n",
      " |-- i94cit: double (nullable = true)\n",
      " |-- i94res: double (nullable = true)\n",
      " |-- i94port: string (nullable = true)\n",
      " |-- arrdate: double (nullable = true)\n",
      " |-- i94mode: double (nullable = true)\n",
      " |-- i94addr: string (nullable = true)\n",
      " |-- depdate: double (nullable = true)\n",
      " |-- i94bir: double (nullable = true)\n",
      " |-- i94visa: double (nullable = true)\n",
      " |-- count: double (nullable = true)\n",
      " |-- dtadfile: string (nullable = true)\n",
      " |-- visapost: string (nullable = true)\n",
      " |-- occup: string (nullable = true)\n",
      " |-- entdepa: string (nullable = true)\n",
      " |-- entdepd: string (nullable = true)\n",
      " |-- entdepu: string (nullable = true)\n",
      " |-- matflag: string (nullable = true)\n",
      " |-- biryear: double (nullable = true)\n",
      " |-- dtaddto: string (nullable = true)\n",
      " |-- gender: string (nullable = true)\n",
      " |-- insnum: string (nullable = true)\n",
      " |-- airline: string (nullable = true)\n",
      " |-- admnum: double (nullable = true)\n",
      " |-- fltno: string (nullable = true)\n",
      " |-- visatype: string (nullable = true)\n",
      "\n"
     ]
    }
   ],
   "source": [
    "df_spark.printSchema()"
   ]
  },
  {
   "cell_type": "code",
   "execution_count": 3,
   "metadata": {},
   "outputs": [
    {
     "name": "stdout",
     "output_type": "stream",
     "text": [
      "-RECORD 0------------------------\n",
      " summary  | count                \n",
      " cicid    | 3096313              \n",
      " i94yr    | 3096313              \n",
      " i94mon   | 3096313              \n",
      " i94cit   | 3096313              \n",
      " i94res   | 3096313              \n",
      " i94port  | 3096313              \n",
      " arrdate  | 3096313              \n",
      " i94mode  | 3096074              \n",
      " i94addr  | 2943721              \n",
      " depdate  | 2953856              \n",
      " i94bir   | 3095511              \n",
      " i94visa  | 3096313              \n",
      " count    | 3096313              \n",
      " dtadfile | 3096312              \n",
      " visapost | 1215063              \n",
      " occup    | 8126                 \n",
      " entdepa  | 3096075              \n",
      " entdepd  | 2957884              \n",
      " entdepu  | 392                  \n",
      " matflag  | 2957884              \n",
      " biryear  | 3095511              \n",
      " dtaddto  | 3095836              \n",
      " gender   | 2682044              \n",
      " insnum   | 113708               \n",
      " airline  | 3012686              \n",
      " admnum   | 3096313              \n",
      " fltno    | 3076764              \n",
      " visatype | 3096313              \n",
      "-RECORD 1------------------------\n",
      " summary  | mean                 \n",
      " cicid    | 3078651.879075533    \n",
      " i94yr    | 2016.0               \n",
      " i94mon   | 4.0                  \n",
      " i94cit   | 304.9069344733559    \n",
      " i94res   | 303.28381949757664   \n",
      " i94port  | null                 \n",
      " arrdate  | 20559.84854179794    \n",
      " i94mode  | 1.0736897761487614   \n",
      " i94addr  | 51.652482269503544   \n",
      " depdate  | 20573.95283554784    \n",
      " i94bir   | 41.767614458485205   \n",
      " i94visa  | 1.8453925685161674   \n",
      " count    | 1.0                  \n",
      " dtadfile | 2.0160424766168267E7 \n",
      " visapost | 999.0                \n",
      " occup    | 885.675              \n",
      " entdepa  | null                 \n",
      " entdepd  | null                 \n",
      " entdepu  | null                 \n",
      " matflag  | null                 \n",
      " biryear  | 1974.2323855415148   \n",
      " dtaddto  | 8291120.333841449    \n",
      " gender   | null                 \n",
      " insnum   | 4131.050016327899    \n",
      " airline  | 59.477601493233784   \n",
      " admnum   | 7.082885011090295E10 \n",
      " fltno    | 1360.2463696420555   \n",
      " visatype | null                 \n",
      "-RECORD 2------------------------\n",
      " summary  | stddev               \n",
      " cicid    | 1763278.099749858    \n",
      " i94yr    | 4.282829613261096... \n",
      " i94mon   | 0.0                  \n",
      " i94cit   | 210.02688853063327   \n",
      " i94res   | 208.5832129278886    \n",
      " i94port  | null                 \n",
      " arrdate  | 8.777339474881552    \n",
      " i94mode  | 0.5158963131657236   \n",
      " i94addr  | 42.979062313709846   \n",
      " depdate  | 29.356968481630613   \n",
      " i94bir   | 17.42026053458826    \n",
      " i94visa  | 0.39839102005409577  \n",
      " count    | 0.0                  \n",
      " dtadfile | 50.01513449489737    \n",
      " visapost | 0.0                  \n",
      " occup    | 264.6551105950961    \n",
      " entdepa  | null                 \n",
      " entdepd  | null                 \n",
      " entdepu  | null                 \n",
      " matflag  | null                 \n",
      " biryear  | 17.420260534588262   \n",
      " dtaddto  | 1656502.4244925014   \n",
      " gender   | null                 \n",
      " insnum   | 8821.743471773656    \n",
      " airline  | 172.63339952061747   \n",
      " admnum   | 2.215441594755763... \n",
      " fltno    | 5852.676345633782    \n",
      " visatype | null                 \n",
      "-RECORD 3------------------------\n",
      " summary  | min                  \n",
      " cicid    | 6.0                  \n",
      " i94yr    | 2016.0               \n",
      " i94mon   | 4.0                  \n",
      " i94cit   | 101.0                \n",
      " i94res   | 101.0                \n",
      " i94port  | 5KE                  \n",
      " arrdate  | 20545.0              \n",
      " i94mode  | 1.0                  \n",
      " i94addr  | ..                   \n",
      " depdate  | 15176.0              \n",
      " i94bir   | -3.0                 \n",
      " i94visa  | 1.0                  \n",
      " count    | 1.0                  \n",
      " dtadfile | 20130811             \n",
      " visapost | 999                  \n",
      " occup    | 049                  \n",
      " entdepa  | A                    \n",
      " entdepd  | D                    \n",
      " entdepu  | U                    \n",
      " matflag  | M                    \n",
      " biryear  | 1902.0               \n",
      " dtaddto  | /   183D             \n",
      " gender   | F                    \n",
      " insnum   | 0                    \n",
      " airline  | *FF                  \n",
      " admnum   | 0.0                  \n",
      " fltno    | 00000                \n",
      " visatype | B1                   \n",
      "-RECORD 4------------------------\n",
      " summary  | max                  \n",
      " cicid    | 6102785.0            \n",
      " i94yr    | 2016.0               \n",
      " i94mon   | 4.0                  \n",
      " i94cit   | 999.0                \n",
      " i94res   | 760.0                \n",
      " i94port  | YSL                  \n",
      " arrdate  | 20574.0              \n",
      " i94mode  | 9.0                  \n",
      " i94addr  | ZU                   \n",
      " depdate  | 45427.0              \n",
      " i94bir   | 114.0                \n",
      " i94visa  | 3.0                  \n",
      " count    | 1.0                  \n",
      " dtadfile | 20160919             \n",
      " visapost | ZZZ                  \n",
      " occup    | WTR                  \n",
      " entdepa  | Z                    \n",
      " entdepd  | W                    \n",
      " entdepu  | Y                    \n",
      " matflag  | M                    \n",
      " biryear  | 2019.0               \n",
      " dtaddto  | D/S                  \n",
      " gender   | X                    \n",
      " insnum   | YM0167               \n",
      " airline  | ZZ                   \n",
      " admnum   | 9.991556593E10       \n",
      " fltno    | ZZZ                  \n",
      " visatype | WT                   \n",
      "\n"
     ]
    }
   ],
   "source": [
    "df_spark.describe().show(vertical=True)"
   ]
  },
  {
   "cell_type": "code",
   "execution_count": 4,
   "metadata": {},
   "outputs": [
    {
     "name": "stdout",
     "output_type": "stream",
     "text": [
      "+-------+\n",
      "|i94port|\n",
      "+-------+\n",
      "|    FMY|\n",
      "|    BGM|\n",
      "|    HEL|\n",
      "|    DNS|\n",
      "|    MOR|\n",
      "|    FOK|\n",
      "|    HVR|\n",
      "|    SNA|\n",
      "|    PTK|\n",
      "|    SPM|\n",
      "|    CLG|\n",
      "|    OPF|\n",
      "|    DLB|\n",
      "|    ABS|\n",
      "|    NAS|\n",
      "|    MYR|\n",
      "|    PVD|\n",
      "|    OAK|\n",
      "|    FAR|\n",
      "|    OTT|\n",
      "+-------+\n",
      "only showing top 20 rows\n",
      "\n"
     ]
    }
   ],
   "source": [
    "df_spark.select(\"i94port\").distinct().show()"
   ]
  },
  {
   "cell_type": "code",
   "execution_count": null,
   "metadata": {},
   "outputs": [],
   "source": []
  },
  {
   "cell_type": "code",
   "execution_count": null,
   "metadata": {},
   "outputs": [],
   "source": [
    "# i94port_counts = df_spark.groupby(\"i94port\").count()"
   ]
  },
  {
   "cell_type": "code",
   "execution_count": null,
   "metadata": {},
   "outputs": [],
   "source": [
    "# i94port_counts.toPandas()"
   ]
  },
  {
   "cell_type": "code",
   "execution_count": 5,
   "metadata": {},
   "outputs": [
    {
     "name": "stdout",
     "output_type": "stream",
     "text": [
      "+-------+\n",
      "|i94mode|\n",
      "+-------+\n",
      "|   null|\n",
      "|    1.0|\n",
      "|    3.0|\n",
      "|    2.0|\n",
      "|    9.0|\n",
      "+-------+\n",
      "\n"
     ]
    }
   ],
   "source": [
    "df_spark.select(\"i94mode\").distinct().show()"
   ]
  },
  {
   "cell_type": "code",
   "execution_count": null,
   "metadata": {},
   "outputs": [],
   "source": []
  },
  {
   "cell_type": "code",
   "execution_count": 6,
   "metadata": {},
   "outputs": [],
   "source": [
    "df_spark.createOrReplaceTempView(\"stg_immigration_raw\")"
   ]
  },
  {
   "cell_type": "code",
   "execution_count": 8,
   "metadata": {},
   "outputs": [
    {
     "name": "stdout",
     "output_type": "stream",
     "text": [
      "+-------+--------+\n",
      "|i94mode|count(1)|\n",
      "+-------+--------+\n",
      "|   null|     239|\n",
      "|    1.0| 2994505|\n",
      "|    3.0|   66660|\n",
      "|    2.0|   26349|\n",
      "|    9.0|    8560|\n",
      "+-------+--------+\n",
      "\n"
     ]
    }
   ],
   "source": [
    "spark.sql(\"\"\"\n",
    "    select i94mode, count(*)\n",
    "    from stg_immigration_raw\n",
    "    group by i94mode\n",
    "\"\"\").show()"
   ]
  },
  {
   "cell_type": "code",
   "execution_count": 11,
   "metadata": {},
   "outputs": [
    {
     "name": "stdout",
     "output_type": "stream",
     "text": [
      "+-----+------+------+------+------+-------+-------+-------+-------+-------+------+-------+-----+--------+--------+-----+-------+-------+-------+-------+-------+--------+------+------+-------+------------+-----+--------+\n",
      "|cicid| i94yr|i94mon|i94cit|i94res|i94port|arrdate|i94mode|i94addr|depdate|i94bir|i94visa|count|dtadfile|visapost|occup|entdepa|entdepd|entdepu|matflag|biryear| dtaddto|gender|insnum|airline|      admnum|fltno|visatype|\n",
      "+-----+------+------+------+------+-------+-------+-------+-------+-------+------+-------+-----+--------+--------+-----+-------+-------+-------+-------+-------+--------+------+------+-------+------------+-----+--------+\n",
      "|  7.0|2016.0|   4.0| 254.0| 276.0|    ATL|20551.0|    1.0|     AL|   null|  25.0|    3.0|  1.0|20130811|     SEO| null|      G|   null|      Y|   null| 1991.0|     D/S|     M|  null|   null|3.73679633E9|00296|      F1|\n",
      "| 15.0|2016.0|   4.0| 101.0| 101.0|    WAS|20545.0|    1.0|     MI|20691.0|  55.0|    2.0|  1.0|20160401|    null| null|      T|      O|   null|      M| 1961.0|09302016|     M|  null|     OS|6.66643185E8|   93|      B2|\n",
      "+-----+------+------+------+------+-------+-------+-------+-------+-------+------+-------+-----+--------+--------+-----+-------+-------+-------+-------+-------+--------+------+------+-------+------------+-----+--------+\n",
      "only showing top 2 rows\n",
      "\n"
     ]
    }
   ],
   "source": [
    "spark.sql(\"\"\"\n",
    "    select *\n",
    "    from stg_immigration_raw\n",
    "    where i94mode = 1\n",
    "\"\"\").show(2)"
   ]
  },
  {
   "cell_type": "code",
   "execution_count": null,
   "metadata": {},
   "outputs": [],
   "source": []
  },
  {
   "cell_type": "code",
   "execution_count": 17,
   "metadata": {},
   "outputs": [
    {
     "name": "stdout",
     "output_type": "stream",
     "text": [
      "+------+-----+----+-------------------+----------------------+---------------------+------+---------+--------+----------+\n",
      "|  year|month| age|origin_country_code|destination_state_code|destination_city_code|gender|visa_code|visatype|i94_counts|\n",
      "+------+-----+----+-------------------+----------------------+---------------------+------+---------+--------+----------+\n",
      "|2016.0|  4.0|59.0|              104.0|                    DC|                  NYC|     F|      2.0|      WT|       1.0|\n",
      "|2016.0|  4.0|67.0|              104.0|                    AZ|                  PHO|     F|      2.0|      WT|       1.0|\n",
      "+------+-----+----+-------------------+----------------------+---------------------+------+---------+--------+----------+\n",
      "only showing top 2 rows\n",
      "\n"
     ]
    }
   ],
   "source": [
    "spark.sql(\"\"\"\n",
    "    select i94yr as year\n",
    "          ,i94mon as month\n",
    "          ,i94bir as age\n",
    "          ,i94res as origin_country_code\n",
    "          ,i94addr as destination_state_code\n",
    "          ,i94port as destination_city_code\n",
    "          ,gender\n",
    "          ,i94visa as visa_code\n",
    "          ,visatype\n",
    "          ,sum(count) as i94_counts\n",
    "    from stg_immigration_raw\n",
    "    where i94mode = 1\n",
    "        and i94port is not null\n",
    "    group by year, month, age,\n",
    "             origin_country_code,\n",
    "             destination_state_code,\n",
    "             destination_city_code,\n",
    "             gender, visa_code,\n",
    "             visatype\n",
    "\"\"\").show(2)"
   ]
  },
  {
   "cell_type": "code",
   "execution_count": null,
   "metadata": {},
   "outputs": [],
   "source": []
  },
  {
   "cell_type": "code",
   "execution_count": null,
   "metadata": {},
   "outputs": [],
   "source": []
  },
  {
   "cell_type": "code",
   "execution_count": 4,
   "metadata": {},
   "outputs": [],
   "source": [
    "demographics = spark.read.format(\"csv\").option(\"delimiter\", \";\").option(\"header\", \"true\").load(\"us-cities-demographics.csv\")\n",
    "airport = spark.read.format(\"csv\").option(\"delimiter\", \",\").option(\"header\", \"true\").load(\"airport-codes_csv.csv\")\n",
    "temperature = spark.read.format(\"csv\").option(\"delimiter\", \",\").option(\"header\", \"true\").load(\"../../data2/GlobalLandTemperaturesByCity.csv\")"
   ]
  },
  {
   "cell_type": "code",
   "execution_count": 5,
   "metadata": {},
   "outputs": [
    {
     "name": "stdout",
     "output_type": "stream",
     "text": [
      "+-------------+-------------+----------+---------------+-----------------+----------------+------------------+------------+----------------------+----------+------------------+-----+\n",
      "|         City|        State|Median Age|Male Population|Female Population|Total Population|Number of Veterans|Foreign-born|Average Household Size|State Code|              Race|Count|\n",
      "+-------------+-------------+----------+---------------+-----------------+----------------+------------------+------------+----------------------+----------+------------------+-----+\n",
      "|Silver Spring|     Maryland|      33.8|          40601|            41862|           82463|              1562|       30908|                   2.6|        MD|Hispanic or Latino|25924|\n",
      "|       Quincy|Massachusetts|      41.0|          44129|            49500|           93629|              4147|       32935|                  2.39|        MA|             White|58723|\n",
      "+-------------+-------------+----------+---------------+-----------------+----------------+------------------+------------+----------------------+----------+------------------+-----+\n",
      "only showing top 2 rows\n",
      "\n"
     ]
    }
   ],
   "source": [
    "demographics.show(2)"
   ]
  },
  {
   "cell_type": "code",
   "execution_count": 6,
   "metadata": {},
   "outputs": [
    {
     "name": "stdout",
     "output_type": "stream",
     "text": [
      "+-----+-------------+--------------------+------------+---------+-----------+----------+------------+--------+---------+----------+--------------------+\n",
      "|ident|         type|                name|elevation_ft|continent|iso_country|iso_region|municipality|gps_code|iata_code|local_code|         coordinates|\n",
      "+-----+-------------+--------------------+------------+---------+-----------+----------+------------+--------+---------+----------+--------------------+\n",
      "|  00A|     heliport|   Total Rf Heliport|          11|       NA|         US|     US-PA|    Bensalem|     00A|     null|       00A|-74.9336013793945...|\n",
      "| 00AA|small_airport|Aero B Ranch Airport|        3435|       NA|         US|     US-KS|       Leoti|    00AA|     null|      00AA|-101.473911, 38.7...|\n",
      "+-----+-------------+--------------------+------------+---------+-----------+----------+------------+--------+---------+----------+--------------------+\n",
      "only showing top 2 rows\n",
      "\n"
     ]
    }
   ],
   "source": [
    "airport.show(2)"
   ]
  },
  {
   "cell_type": "code",
   "execution_count": 7,
   "metadata": {},
   "outputs": [
    {
     "name": "stdout",
     "output_type": "stream",
     "text": [
      "+----------+------------------+-----------------------------+-----+-------+--------+---------+\n",
      "|        dt|AverageTemperature|AverageTemperatureUncertainty| City|Country|Latitude|Longitude|\n",
      "+----------+------------------+-----------------------------+-----+-------+--------+---------+\n",
      "|1743-11-01|             6.068|           1.7369999999999999|Århus|Denmark|  57.05N|   10.33E|\n",
      "|1743-12-01|              null|                         null|Århus|Denmark|  57.05N|   10.33E|\n",
      "+----------+------------------+-----------------------------+-----+-------+--------+---------+\n",
      "only showing top 2 rows\n",
      "\n"
     ]
    }
   ],
   "source": [
    "temperature.show(2)"
   ]
  },
  {
   "cell_type": "code",
   "execution_count": 8,
   "metadata": {},
   "outputs": [],
   "source": [
    "demographics.createOrReplaceTempView(\"stg_demographics\")\n",
    "airport.createOrReplaceTempView(\"stg_airports\")\n",
    "temperature.createOrReplaceTempView(\"stg_temperatures\")"
   ]
  },
  {
   "cell_type": "code",
   "execution_count": 10,
   "metadata": {},
   "outputs": [
    {
     "name": "stdout",
     "output_type": "stream",
     "text": [
      "-RECORD 0------------------------------------\n",
      " City                   | Silver Spring      \n",
      " State                  | Maryland           \n",
      " Median Age             | 33.8               \n",
      " Male Population        | 40601              \n",
      " Female Population      | 41862              \n",
      " Total Population       | 82463              \n",
      " Number of Veterans     | 1562               \n",
      " Foreign-born           | 30908              \n",
      " Average Household Size | 2.6                \n",
      " State Code             | MD                 \n",
      " Race                   | Hispanic or Latino \n",
      " Count                  | 25924              \n",
      "-RECORD 1------------------------------------\n",
      " City                   | Quincy             \n",
      " State                  | Massachusetts      \n",
      " Median Age             | 41.0               \n",
      " Male Population        | 44129              \n",
      " Female Population      | 49500              \n",
      " Total Population       | 93629              \n",
      " Number of Veterans     | 4147               \n",
      " Foreign-born           | 32935              \n",
      " Average Household Size | 2.39               \n",
      " State Code             | MA                 \n",
      " Race                   | White              \n",
      " Count                  | 58723              \n",
      "only showing top 2 rows\n",
      "\n"
     ]
    }
   ],
   "source": [
    "spark.sql(\"\"\"\n",
    "    select *\n",
    "    from stg_demographics\n",
    "\"\"\").show(2, vertical=True)"
   ]
  },
  {
   "cell_type": "code",
   "execution_count": 13,
   "metadata": {},
   "outputs": [
    {
     "name": "stdout",
     "output_type": "stream",
     "text": [
      "-RECORD 0--------------------------------------\n",
      " City                   | Baltimore            \n",
      " State                  | Maryland             \n",
      " Median Age             | 34.7                 \n",
      " Male Population        | 294027               \n",
      " Female Population      | 327822               \n",
      " Total Population       | 621849               \n",
      " Number of Veterans     | 29540                \n",
      " Foreign-born           | 49857                \n",
      " Average Household Size | 2.51                 \n",
      " State Code             | MD                   \n",
      " Race                   | White                \n",
      " Count                  | 207274               \n",
      "-RECORD 1--------------------------------------\n",
      " City                   | Baltimore            \n",
      " State                  | Maryland             \n",
      " Median Age             | 34.7                 \n",
      " Male Population        | 294027               \n",
      " Female Population      | 327822               \n",
      " Total Population       | 621849               \n",
      " Number of Veterans     | 29540                \n",
      " Foreign-born           | 49857                \n",
      " Average Household Size | 2.51                 \n",
      " State Code             | MD                   \n",
      " Race                   | Black or African-... \n",
      " Count                  | 396270               \n",
      "-RECORD 2--------------------------------------\n",
      " City                   | Baltimore            \n",
      " State                  | Maryland             \n",
      " Median Age             | 34.7                 \n",
      " Male Population        | 294027               \n",
      " Female Population      | 327822               \n",
      " Total Population       | 621849               \n",
      " Number of Veterans     | 29540                \n",
      " Foreign-born           | 49857                \n",
      " Average Household Size | 2.51                 \n",
      " State Code             | MD                   \n",
      " Race                   | Asian                \n",
      " Count                  | 20161                \n",
      "-RECORD 3--------------------------------------\n",
      " City                   | Baltimore            \n",
      " State                  | Maryland             \n",
      " Median Age             | 34.7                 \n",
      " Male Population        | 294027               \n",
      " Female Population      | 327822               \n",
      " Total Population       | 621849               \n",
      " Number of Veterans     | 29540                \n",
      " Foreign-born           | 49857                \n",
      " Average Household Size | 2.51                 \n",
      " State Code             | MD                   \n",
      " Race                   | Hispanic or Latino   \n",
      " Count                  | 29953                \n",
      "-RECORD 4--------------------------------------\n",
      " City                   | Baltimore            \n",
      " State                  | Maryland             \n",
      " Median Age             | 34.7                 \n",
      " Male Population        | 294027               \n",
      " Female Population      | 327822               \n",
      " Total Population       | 621849               \n",
      " Number of Veterans     | 29540                \n",
      " Foreign-born           | 49857                \n",
      " Average Household Size | 2.51                 \n",
      " State Code             | MD                   \n",
      " Race                   | American Indian a... \n",
      " Count                  | 7730                 \n",
      "-RECORD 5--------------------------------------\n",
      " City                   | Columbia             \n",
      " State                  | Maryland             \n",
      " Median Age             | 37.9                 \n",
      " Male Population        | 52202                \n",
      " Female Population      | 51265                \n",
      " Total Population       | 103467               \n",
      " Number of Veterans     | 6526                 \n",
      " Foreign-born           | 23249                \n",
      " Average Household Size | 2.68                 \n",
      " State Code             | MD                   \n",
      " Race                   | Asian                \n",
      " Count                  | 17821                \n",
      "-RECORD 6--------------------------------------\n",
      " City                   | Columbia             \n",
      " State                  | Maryland             \n",
      " Median Age             | 37.9                 \n",
      " Male Population        | 52202                \n",
      " Female Population      | 51265                \n",
      " Total Population       | 103467               \n",
      " Number of Veterans     | 6526                 \n",
      " Foreign-born           | 23249                \n",
      " Average Household Size | 2.68                 \n",
      " State Code             | MD                   \n",
      " Race                   | Hispanic or Latino   \n",
      " Count                  | 8033                 \n",
      "-RECORD 7--------------------------------------\n",
      " City                   | Columbia             \n",
      " State                  | Maryland             \n",
      " Median Age             | 37.9                 \n",
      " Male Population        | 52202                \n",
      " Female Population      | 51265                \n",
      " Total Population       | 103467               \n",
      " Number of Veterans     | 6526                 \n",
      " Foreign-born           | 23249                \n",
      " Average Household Size | 2.68                 \n",
      " State Code             | MD                   \n",
      " Race                   | White                \n",
      " Count                  | 58343                \n",
      "-RECORD 8--------------------------------------\n",
      " City                   | Columbia             \n",
      " State                  | Maryland             \n",
      " Median Age             | 37.9                 \n",
      " Male Population        | 52202                \n",
      " Female Population      | 51265                \n",
      " Total Population       | 103467               \n",
      " Number of Veterans     | 6526                 \n",
      " Foreign-born           | 23249                \n",
      " Average Household Size | 2.68                 \n",
      " State Code             | MD                   \n",
      " Race                   | Black or African-... \n",
      " Count                  | 30075                \n",
      "-RECORD 9--------------------------------------\n",
      " City                   | Columbia             \n",
      " State                  | Maryland             \n",
      " Median Age             | 37.9                 \n",
      " Male Population        | 52202                \n",
      " Female Population      | 51265                \n",
      " Total Population       | 103467               \n",
      " Number of Veterans     | 6526                 \n",
      " Foreign-born           | 23249                \n",
      " Average Household Size | 2.68                 \n",
      " State Code             | MD                   \n",
      " Race                   | American Indian a... \n",
      " Count                  | 488                  \n",
      "only showing top 10 rows\n",
      "\n"
     ]
    }
   ],
   "source": [
    "spark.sql(\"\"\"\n",
    "    select *\n",
    "    from stg_demographics\n",
    "    where `State Code` = 'MD'\n",
    "    order by city\n",
    "\"\"\").show(10, vertical=True)"
   ]
  },
  {
   "cell_type": "code",
   "execution_count": 15,
   "metadata": {},
   "outputs": [
    {
     "name": "stdout",
     "output_type": "stream",
     "text": [
      "-RECORD 0--------------------\n",
      " race | American Indian a... \n",
      "-RECORD 1--------------------\n",
      " race | Asian                \n",
      "-RECORD 2--------------------\n",
      " race | Black or African-... \n",
      "-RECORD 3--------------------\n",
      " race | Hispanic or Latino   \n",
      "-RECORD 4--------------------\n",
      " race | White                \n",
      "\n"
     ]
    }
   ],
   "source": [
    "spark.sql(\"\"\"\n",
    "    select distinct race\n",
    "    from stg_demographics\n",
    "    order by race\n",
    "\"\"\").show(vertical=True)"
   ]
  },
  {
   "cell_type": "code",
   "execution_count": 14,
   "metadata": {},
   "outputs": [
    {
     "name": "stdout",
     "output_type": "stream",
     "text": [
      "-RECORD 0--------------------------------\n",
      " state_code                  | MD        \n",
      " city                        | Baltimore \n",
      " state                       | Maryland  \n",
      " pop_white_counts            | 207274    \n",
      " pop_asian_counts            | 20161     \n",
      " pop_native_american_counts  | 7730      \n",
      " pop_hispanic_counts         | 29953     \n",
      " pop_african_american_counts | 396270    \n",
      " tot_population              | 621849    \n",
      " male_population             | 294027    \n",
      " female_population           | 327822    \n",
      " veteran_population          | 29540     \n",
      " foreign_population          | 49857     \n",
      " median_age                  | 34.7      \n",
      " avg_hh_size                 | 2.51      \n",
      "-RECORD 1--------------------------------\n",
      " state_code                  | MD        \n",
      " city                        | Columbia  \n",
      " state                       | Maryland  \n",
      " pop_white_counts            | 58343     \n",
      " pop_asian_counts            | 17821     \n",
      " pop_native_american_counts  | 488       \n",
      " pop_hispanic_counts         | 8033      \n",
      " pop_african_american_counts | 30075     \n",
      " tot_population              | 103467    \n",
      " male_population             | 52202     \n",
      " female_population           | 51265     \n",
      " veteran_population          | 6526      \n",
      " foreign_population          | 23249     \n",
      " median_age                  | 37.9      \n",
      " avg_hh_size                 | 2.68      \n",
      "only showing top 2 rows\n",
      "\n"
     ]
    }
   ],
   "source": [
    "spark.sql(\"\"\"\n",
    "    select `State Code` as state_code\n",
    "           ,City as city\n",
    "           ,State as state\n",
    "           ,max(\n",
    "               case when Race = 'White' then Count else 0 end\n",
    "           ) as pop_white_counts\n",
    "           ,max(\n",
    "               case when Race = 'Asian' then Count else 0 end\n",
    "           ) as pop_asian_counts\n",
    "           ,max(\n",
    "               case when Race like 'American%Indian%' then Count else 0 end\n",
    "           ) as pop_native_american_counts\n",
    "           ,max(\n",
    "               case when Race = 'Hispanic or Latino' then Count else 0 end\n",
    "           ) as pop_hispanic_counts\n",
    "           ,max(\n",
    "               case when Race like 'Black%African%' then Count else 0 end\n",
    "           ) as pop_african_american_counts\n",
    "           ,max(\n",
    "               `Total Population` \n",
    "           ) as tot_population\n",
    "           ,max(\n",
    "               `Male Population` \n",
    "           ) as male_population\n",
    "           ,max(\n",
    "               `Female Population` \n",
    "           ) as female_population\n",
    "           ,max(\n",
    "               `Number of Veterans` \n",
    "           ) as veteran_population\n",
    "           ,max(\n",
    "               `Foreign-born` \n",
    "           ) as foreign_population\n",
    "           ,max(\n",
    "               `Median Age`\n",
    "           ) as median_age\n",
    "           ,max(\n",
    "               `Average Household Size`\n",
    "           ) as avg_hh_size\n",
    "    from stg_demographics\n",
    "    where `State Code` = \"MD\"\n",
    "    group by `State Code`, city, state\n",
    "    order by city\n",
    "\"\"\").show(2, vertical=True)"
   ]
  },
  {
   "cell_type": "code",
   "execution_count": 16,
   "metadata": {},
   "outputs": [
    {
     "name": "stdout",
     "output_type": "stream",
     "text": [
      "+----------+----------------+-------------+----------------+----------------+--------------------------+-------------------+---------------------------+--------------+---------------+-----------------+------------------+------------------+----------+-----------+\n",
      "|state_code|            city|        state|pop_white_counts|pop_asian_counts|pop_native_american_counts|pop_hispanic_counts|pop_african_american_counts|tot_population|male_population|female_population|veteran_population|foreign_population|median_age|avg_hh_size|\n",
      "+----------+----------------+-------------+----------------+----------------+--------------------------+-------------------+---------------------------+--------------+---------------+-----------------+------------------+------------------+----------+-----------+\n",
      "|        AZ|        Avondale|      Arizona|           62176|            2828|                       613|              34716|                      11592|         80683|          38712|            41971|              4815|              8355|      29.1|       3.18|\n",
      "|        CA|     Santa Maria|   California|           90403|            5058|                      1575|              81551|                       1237|        105082|          53320|            51762|              2876|             39192|      30.1|       3.83|\n",
      "|        TX|         Lubbock|        Texas|          206318|            7508|                      7627|              90706|                      23594|        249051|         122320|           126731|             10588|             14226|      29.2|       2.61|\n",
      "|        FL|   Miami Gardens|      Florida|           27273|               0|                         0|              23287|                      85300|        113199|          50719|            62480|              2327|             33394|      34.9|       3.75|\n",
      "|        FL|     Tallahassee|      Florida|          112800|           10035|                      1368|              13538|                      69135|        189894|          89390|           100504|              9575|             16720|      26.2|       2.38|\n",
      "|        PR|        San Juan|  Puerto Rico|               0|            2452|                      4031|             335559|                          0|        342237|         155408|           186829|              null|              null|      41.4|       null|\n",
      "|        VA|      Alexandria|     Virginia|          106215|           13315|                      1133|              25573|                      37168|        153511|          74989|            78522|             10635|             44030|      36.6|        2.2|\n",
      "|        CA|       Vacaville|   California|           66825|            9273|                      3140|              23395|                      18023|         96794|          50091|            46703|              9064|             10577|      35.8|        2.9|\n",
      "|        CA|        El Cajon|   California|           84703|            4561|                      1891|              31542|                       7534|        103688|          54450|            49238|              7103|             31865|      32.7|       3.14|\n",
      "|        IA|    Cedar Rapids|         Iowa|          116851|            5406|                      1243|               5328|                      11921|        130405|          63109|            67296|              7823|              5404|      36.2|       2.32|\n",
      "|        OH|       Cleveland|         Ohio|          166958|           10102|                      6140|              40603|                     205395|        388059|         186436|           201623|             19849|             18830|      36.0|       2.24|\n",
      "|        CA|    Baldwin Park|   California|           36890|           15505|                       316|              56282|                       1560|         77056|          38747|            38309|               780|             34322|      35.8|       4.13|\n",
      "|        MA|        Brockton|Massachusetts|           40110|            2528|                       881|              10890|                      43646|         95314|          46273|            49041|              3036|             27313|      35.2|       2.88|\n",
      "|        NH|      Manchester|New Hampshire|          100108|            4304|                       558|              11962|                       6896|        110223|          54845|            55378|              5473|             14506|      37.3|        2.4|\n",
      "|        WI|          Racine|    Wisconsin|           52445|            1175|                      1371|              18215|                      20014|         77737|          39314|            38423|              4650|              4403|      33.7|       2.56|\n",
      "|        CO|Colorado Springs|     Colorado|          374900|           22619|                     11146|              78711|                      38976|        456562|         225544|           231018|             49291|             35320|      34.8|       2.48|\n",
      "|        TN|         Jackson|    Tennessee|           36037|            1171|                       564|               3383|                      30103|         66980|          30007|            36973|              3529|              2097|      35.3|       2.52|\n",
      "|        UT|  Salt Lake City|         Utah|          150136|           13153|                      3488|              40559|                       5365|        192660|          98364|            94296|              6829|             32166|      32.1|       2.38|\n",
      "|        CA|   Santa Clarita|   California|          144949|           23168|                      4441|              56944|                       9223|        182367|          90192|            92175|              8537|             40666|      38.1|       3.02|\n",
      "|        CA|        Stockton|   California|          170878|           76859|                     19834|             128216|                      41161|        305650|         150976|           154674|             12822|             79583|      32.5|       3.16|\n",
      "+----------+----------------+-------------+----------------+----------------+--------------------------+-------------------+---------------------------+--------------+---------------+-----------------+------------------+------------------+----------+-----------+\n",
      "only showing top 20 rows\n",
      "\n"
     ]
    }
   ],
   "source": [
    "out_df = spark.sql(\"\"\"\n",
    "    select `State Code` as state_code\n",
    "           ,City as city\n",
    "           ,State as state\n",
    "           ,max(\n",
    "               case when Race = 'White' then Count else 0 end\n",
    "           ) as pop_white_counts\n",
    "           ,max(\n",
    "               case when Race = 'Asian' then Count else 0 end\n",
    "           ) as pop_asian_counts\n",
    "           ,max(\n",
    "               case when Race like 'American%Indian%' then Count else 0 end\n",
    "           ) as pop_native_american_counts\n",
    "           ,max(\n",
    "               case when Race = 'Hispanic or Latino' then Count else 0 end\n",
    "           ) as pop_hispanic_counts\n",
    "           ,max(\n",
    "               case when Race like 'Black%African%' then Count else 0 end\n",
    "           ) as pop_african_american_counts\n",
    "           ,max(\n",
    "               `Total Population` \n",
    "           ) as tot_population\n",
    "           ,max(\n",
    "               `Male Population` \n",
    "           ) as male_population\n",
    "           ,max(\n",
    "               `Female Population` \n",
    "           ) as female_population\n",
    "           ,max(\n",
    "               `Number of Veterans` \n",
    "           ) as veteran_population\n",
    "           ,max(\n",
    "               `Foreign-born` \n",
    "           ) as foreign_population\n",
    "           ,max(\n",
    "               `Median Age`\n",
    "           ) as median_age\n",
    "           ,max(\n",
    "               `Average Household Size`\n",
    "           ) as avg_hh_size\n",
    "    from stg_demographics\n",
    "    where `State Code` is not null\n",
    "    group by `State Code`, city, state\n",
    "\"\"\")\n",
    "    \n",
    "out_df.show()"
   ]
  },
  {
   "cell_type": "code",
   "execution_count": null,
   "metadata": {},
   "outputs": [],
   "source": []
  },
  {
   "cell_type": "code",
   "execution_count": 9,
   "metadata": {},
   "outputs": [],
   "source": [
    "# airport codes"
   ]
  },
  {
   "cell_type": "code",
   "execution_count": 11,
   "metadata": {},
   "outputs": [
    {
     "name": "stdout",
     "output_type": "stream",
     "text": [
      "+-----+-------------+--------------------+------------+---------+-----------+----------+------------+--------+---------+----------+--------------------+\n",
      "|ident|         type|                name|elevation_ft|continent|iso_country|iso_region|municipality|gps_code|iata_code|local_code|         coordinates|\n",
      "+-----+-------------+--------------------+------------+---------+-----------+----------+------------+--------+---------+----------+--------------------+\n",
      "|  00A|     heliport|   Total Rf Heliport|          11|       NA|         US|     US-PA|    Bensalem|     00A|     null|       00A|-74.9336013793945...|\n",
      "| 00AA|small_airport|Aero B Ranch Airport|        3435|       NA|         US|     US-KS|       Leoti|    00AA|     null|      00AA|-101.473911, 38.7...|\n",
      "+-----+-------------+--------------------+------------+---------+-----------+----------+------------+--------+---------+----------+--------------------+\n",
      "only showing top 2 rows\n",
      "\n"
     ]
    }
   ],
   "source": [
    "spark.sql(\"\"\"\n",
    "    select *\n",
    "    from stg_airports\n",
    "\"\"\").show(2)"
   ]
  },
  {
   "cell_type": "code",
   "execution_count": 12,
   "metadata": {},
   "outputs": [
    {
     "name": "stdout",
     "output_type": "stream",
     "text": [
      "+--------+\n",
      "|count(1)|\n",
      "+--------+\n",
      "|   55075|\n",
      "+--------+\n",
      "\n"
     ]
    }
   ],
   "source": [
    "spark.sql(\"\"\"\n",
    "    select count(*)\n",
    "    from stg_airports\n",
    "\"\"\").show()"
   ]
  },
  {
   "cell_type": "code",
   "execution_count": 14,
   "metadata": {},
   "outputs": [
    {
     "name": "stdout",
     "output_type": "stream",
     "text": [
      "+--------+\n",
      "|count(1)|\n",
      "+--------+\n",
      "|   34888|\n",
      "+--------+\n",
      "\n"
     ]
    }
   ],
   "source": [
    "spark.sql(\"\"\"\n",
    "    select count(*)\n",
    "    from stg_airports\n",
    "    where iata_code is not null or local_code is not null\n",
    "\"\"\").show(2)"
   ]
  },
  {
   "cell_type": "code",
   "execution_count": 28,
   "metadata": {},
   "outputs": [
    {
     "name": "stdout",
     "output_type": "stream",
     "text": [
      "-RECORD 0------------------------------------------\n",
      " iso_country  | US                                 \n",
      " iso_region   | US-PA                              \n",
      " municipality | Bensalem                           \n",
      " ident        | 00A                                \n",
      " iata_code    | null                               \n",
      " local_code   | 00A                                \n",
      " type         | heliport                           \n",
      " name         | Total Rf Heliport                  \n",
      " coordinates  | -74.93360137939453, 40.07080078125 \n",
      " y_coord      |  40.07080078125                    \n",
      " x_coord      | -74.93360137939453                 \n",
      " elevation_ft | 11                                 \n",
      " gps_code     | 00A                                \n",
      "-RECORD 1------------------------------------------\n",
      " iso_country  | US                                 \n",
      " iso_region   | US-KS                              \n",
      " municipality | Leoti                              \n",
      " ident        | 00AA                               \n",
      " iata_code    | null                               \n",
      " local_code   | 00AA                               \n",
      " type         | small_airport                      \n",
      " name         | Aero B Ranch Airport               \n",
      " coordinates  | -101.473911, 38.704022             \n",
      " y_coord      |  38.704022                         \n",
      " x_coord      | -101.473911                        \n",
      " elevation_ft | 3435                               \n",
      " gps_code     | 00AA                               \n",
      "only showing top 2 rows\n",
      "\n"
     ]
    }
   ],
   "source": [
    "spark.sql(\"\"\"\n",
    "    select iso_country\n",
    "           ,iso_region\n",
    "           ,municipality\n",
    "           ,ident\n",
    "           ,iata_code\n",
    "           ,local_code\n",
    "           ,type\n",
    "           ,name\n",
    "           ,coordinates\n",
    "           ,SUBSTRING_INDEX(coordinates, ',', -1) as y_coord\n",
    "           ,SUBSTRING_INDEX(coordinates, ',', 1) as x_coord\n",
    "           ,elevation_ft\n",
    "           ,gps_code\n",
    "    from stg_airports\n",
    "    where iata_code is not null or local_code is not null\n",
    "\"\"\").show(2, vertical=True, truncate=False)"
   ]
  },
  {
   "cell_type": "code",
   "execution_count": null,
   "metadata": {},
   "outputs": [],
   "source": []
  },
  {
   "cell_type": "code",
   "execution_count": 29,
   "metadata": {},
   "outputs": [],
   "source": [
    "# global temps"
   ]
  },
  {
   "cell_type": "code",
   "execution_count": 30,
   "metadata": {},
   "outputs": [
    {
     "name": "stdout",
     "output_type": "stream",
     "text": [
      "+----------+------------------+-----------------------------+-----+-------+--------+---------+\n",
      "|        dt|AverageTemperature|AverageTemperatureUncertainty| City|Country|Latitude|Longitude|\n",
      "+----------+------------------+-----------------------------+-----+-------+--------+---------+\n",
      "|1743-11-01|             6.068|           1.7369999999999999|Århus|Denmark|  57.05N|   10.33E|\n",
      "|1743-12-01|              null|                         null|Århus|Denmark|  57.05N|   10.33E|\n",
      "+----------+------------------+-----------------------------+-----+-------+--------+---------+\n",
      "only showing top 2 rows\n",
      "\n"
     ]
    }
   ],
   "source": [
    "spark.sql(\"\"\"\n",
    "    select *\n",
    "    from stg_temperatures\n",
    "\"\"\").show(2)"
   ]
  },
  {
   "cell_type": "code",
   "execution_count": 31,
   "metadata": {},
   "outputs": [
    {
     "name": "stdout",
     "output_type": "stream",
     "text": [
      "+--------+\n",
      "|count(1)|\n",
      "+--------+\n",
      "| 8599212|\n",
      "+--------+\n",
      "\n"
     ]
    }
   ],
   "source": [
    "spark.sql(\"\"\"\n",
    "    select count(*)\n",
    "    from stg_temperatures\n",
    "\"\"\").show(2)"
   ]
  },
  {
   "cell_type": "code",
   "execution_count": 32,
   "metadata": {},
   "outputs": [
    {
     "name": "stdout",
     "output_type": "stream",
     "text": [
      "+--------+\n",
      "|count(1)|\n",
      "+--------+\n",
      "| 8235082|\n",
      "+--------+\n",
      "\n"
     ]
    }
   ],
   "source": [
    "spark.sql(\"\"\"\n",
    "    select count(*)\n",
    "    from stg_temperatures\n",
    "    where averageTemperature is not null\n",
    "\"\"\").show(2)"
   ]
  },
  {
   "cell_type": "code",
   "execution_count": 40,
   "metadata": {},
   "outputs": [
    {
     "name": "stdout",
     "output_type": "stream",
     "text": [
      "+----------+----+-----+---+-------+-----+------------------+--------+---------+\n",
      "|  fulldate|year|month|day|country| city|averageTemperature|latitude|longitude|\n",
      "+----------+----+-----+---+-------+-----+------------------+--------+---------+\n",
      "|1900-01-01|1900|    1|  1|Denmark|Århus|            -0.989|  57.05N|   10.33E|\n",
      "|1900-02-01|1900|    2|  1|Denmark|Århus|            -2.799|  57.05N|   10.33E|\n",
      "+----------+----+-----+---+-------+-----+------------------+--------+---------+\n",
      "only showing top 2 rows\n",
      "\n"
     ]
    }
   ],
   "source": [
    "spark.sql(\"\"\"\n",
    "    select date(dt) as fulldate\n",
    "           ,year(date(dt)) as year\n",
    "           ,month(date(dt)) as month\n",
    "           ,day(date(dt)) as day\n",
    "           ,country\n",
    "           ,city\n",
    "           ,averageTemperature\n",
    "           ,latitude\n",
    "           ,longitude\n",
    "    from stg_temperatures\n",
    "    where averageTemperature is not null\n",
    "        and year(date(dt)) >= 1900\n",
    "\"\"\").show(2)"
   ]
  },
  {
   "cell_type": "code",
   "execution_count": 41,
   "metadata": {},
   "outputs": [
    {
     "data": {
      "text/plain": [
       "4788080"
      ]
     },
     "execution_count": 41,
     "metadata": {},
     "output_type": "execute_result"
    }
   ],
   "source": [
    "spark.sql(\"\"\"\n",
    "    select date(dt) as fulldate\n",
    "           ,year(date(dt)) as year\n",
    "           ,month(date(dt)) as month\n",
    "           ,day(date(dt)) as day\n",
    "           ,country\n",
    "           ,city\n",
    "           ,averageTemperature\n",
    "           ,latitude\n",
    "           ,longitude\n",
    "    from stg_temperatures\n",
    "    where averageTemperature is not null\n",
    "        and year(date(dt)) >= 1900\n",
    "\"\"\").count()"
   ]
  },
  {
   "cell_type": "code",
   "execution_count": null,
   "metadata": {},
   "outputs": [],
   "source": []
  },
  {
   "cell_type": "markdown",
   "metadata": {},
   "source": [
    "### Step 3: Define the Data Model\n",
    "#### 3.1 Conceptual Data Model\n",
    "Map out the conceptual data model and explain why you chose that model\n",
    "\n",
    "#### 3.2 Mapping Out Data Pipelines\n",
    "List the steps necessary to pipeline the data into the chosen data model"
   ]
  },
  {
   "cell_type": "markdown",
   "metadata": {},
   "source": [
    "### Step 4: Run Pipelines to Model the Data \n",
    "#### 4.1 Create the data model\n",
    "Build the data pipelines to create the data model."
   ]
  },
  {
   "cell_type": "code",
   "execution_count": null,
   "metadata": {},
   "outputs": [],
   "source": [
    "# Write code here"
   ]
  },
  {
   "cell_type": "markdown",
   "metadata": {},
   "source": [
    "#### 4.2 Data Quality Checks\n",
    "Explain the data quality checks you'll perform to ensure the pipeline ran as expected. These could include:\n",
    " * Integrity constraints on the relational database (e.g., unique key, data type, etc.)\n",
    " * Unit tests for the scripts to ensure they are doing the right thing\n",
    " * Source/Count checks to ensure completeness\n",
    " \n",
    "Run Quality Checks"
   ]
  },
  {
   "cell_type": "code",
   "execution_count": null,
   "metadata": {},
   "outputs": [],
   "source": [
    "# Perform quality checks here"
   ]
  },
  {
   "cell_type": "markdown",
   "metadata": {},
   "source": [
    "#### 4.3 Data dictionary \n",
    "Create a data dictionary for your data model. For each field, provide a brief description of what the data is and where it came from. You can include the data dictionary in the notebook or in a separate file."
   ]
  },
  {
   "cell_type": "markdown",
   "metadata": {},
   "source": [
    "#### Step 5: Complete Project Write Up\n",
    "* Clearly state the rationale for the choice of tools and technologies for the project.\n",
    "* Propose how often the data should be updated and why.\n",
    "* Write a description of how you would approach the problem differently under the following scenarios:\n",
    " * The data was increased by 100x.\n",
    " * The data populates a dashboard that must be updated on a daily basis by 7am every day.\n",
    " * The database needed to be accessed by 100+ people."
   ]
  },
  {
   "cell_type": "code",
   "execution_count": null,
   "metadata": {},
   "outputs": [],
   "source": []
  },
  {
   "cell_type": "code",
   "execution_count": null,
   "metadata": {},
   "outputs": [],
   "source": []
  },
  {
   "cell_type": "code",
   "execution_count": null,
   "metadata": {},
   "outputs": [],
   "source": []
  },
  {
   "cell_type": "code",
   "execution_count": null,
   "metadata": {},
   "outputs": [],
   "source": []
  },
  {
   "cell_type": "code",
   "execution_count": null,
   "metadata": {},
   "outputs": [],
   "source": []
  },
  {
   "cell_type": "code",
   "execution_count": null,
   "metadata": {},
   "outputs": [],
   "source": []
  }
 ],
 "metadata": {
  "kernelspec": {
   "display_name": "Python 3",
   "language": "python",
   "name": "python3"
  },
  "language_info": {
   "codemirror_mode": {
    "name": "ipython",
    "version": 3
   },
   "file_extension": ".py",
   "mimetype": "text/x-python",
   "name": "python",
   "nbconvert_exporter": "python",
   "pygments_lexer": "ipython3",
   "version": "3.6.3"
  }
 },
 "nbformat": 4,
 "nbformat_minor": 4
}
