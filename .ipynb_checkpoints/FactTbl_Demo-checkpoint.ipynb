{
 "cells": [
  {
   "cell_type": "code",
   "execution_count": 1,
   "metadata": {},
   "outputs": [],
   "source": [
    "from pyspark.sql import SparkSession\n",
    "spark = SparkSession.builder.\\\n",
    "config(\"spark.jars.packages\",\"saurfang:spark-sas7bdat:2.0.0-s_2.11\")\\\n",
    ".enableHiveSupport().getOrCreate()"
   ]
  },
  {
   "cell_type": "code",
   "execution_count": 4,
   "metadata": {},
   "outputs": [],
   "source": [
    "import os\n",
    "import glob\n",
    "import pandas as pd"
   ]
  },
  {
   "cell_type": "code",
   "execution_count": 3,
   "metadata": {},
   "outputs": [],
   "source": [
    "import lkup_utils"
   ]
  },
  {
   "cell_type": "code",
   "execution_count": 3,
   "metadata": {},
   "outputs": [
    {
     "name": "stdout",
     "output_type": "stream",
     "text": [
      "668421\n",
      "953197\n",
      "806559\n",
      "1030225\n",
      "755359\n",
      "1058405\n",
      "1062875\n",
      "783442\n",
      "805419\n",
      "904307\n",
      "898359\n",
      "910706\n"
     ]
    }
   ],
   "source": [
    "for month in os.listdir(\"./output_data/dim_immigration/\"):\n",
    "    tmp = spark.read.parquet(os.path.join(\"./output_data/dim_immigration/\", month))\n",
    "    print(tmp.count())"
   ]
  },
  {
   "cell_type": "code",
   "execution_count": null,
   "metadata": {},
   "outputs": [],
   "source": [
    "months_dfs = []\n",
    "\n",
    "for month in os.listdir(\"./output_data/dim_immigration/\"):\n",
    "    tmp = spark.read.parquet(os.path.join(\"./output_data/dim_immigration/\", month))\n",
    "    months_dfs.append(tmp)"
   ]
  },
  {
   "cell_type": "code",
   "execution_count": null,
   "metadata": {},
   "outputs": [],
   "source": [
    "from functools import reduce\n",
    "from pyspark.sql import DataFrame"
   ]
  },
  {
   "cell_type": "code",
   "execution_count": null,
   "metadata": {},
   "outputs": [],
   "source": [
    "dim_imm = reduce(DataFrame.unionAll, months_dfs)"
   ]
  },
  {
   "cell_type": "code",
   "execution_count": null,
   "metadata": {},
   "outputs": [],
   "source": [
    "dim_imm.count()"
   ]
  },
  {
   "cell_type": "code",
   "execution_count": 8,
   "metadata": {},
   "outputs": [
    {
     "name": "stdout",
     "output_type": "stream",
     "text": [
      "+-----+-------+\n",
      "|month|  count|\n",
      "+-----+-------+\n",
      "|  8.0|1030225|\n",
      "|  7.0|1058405|\n",
      "|  1.0| 783442|\n",
      "|  4.0|1062875|\n",
      "| 11.0| 755359|\n",
      "|  3.0| 805419|\n",
      "|  2.0| 668421|\n",
      "| 10.0| 910706|\n",
      "|  6.0| 953197|\n",
      "|  5.0| 904307|\n",
      "|  9.0| 898359|\n",
      "| 12.0| 806559|\n",
      "+-----+-------+\n",
      "\n"
     ]
    }
   ],
   "source": [
    "dim_imm.groupBy(\"month\").count().show()"
   ]
  },
  {
   "cell_type": "code",
   "execution_count": 35,
   "metadata": {},
   "outputs": [
    {
     "name": "stdout",
     "output_type": "stream",
     "text": [
      "+----+-------------------+----------------------+---------------------+------+---------+--------+----------+------+-----+\n",
      "| age|origin_country_code|destination_state_code|destination_city_code|gender|visa_code|visatype|i94_counts|  year|month|\n",
      "+----+-------------------+----------------------+---------------------+------+---------+--------+----------+------+-----+\n",
      "|40.0|              103.0|                    TN|                  CLT|     M|      1.0|      B1|       1.0|2016.0|  2.0|\n",
      "|24.0|              107.0|                    WI|                  CHI|     M|      2.0|      B2|       1.0|2016.0|  2.0|\n",
      "|28.0|              108.0|                    MI|                  TUC|     M|      2.0|      WT|       1.0|2016.0|  2.0|\n",
      "|23.0|              111.0|                    HI|                  SFR|     M|      2.0|      WT|       1.0|2016.0|  2.0|\n",
      "|33.0|              113.0|                    OH|                  TUC|     F|      1.0|      B1|       1.0|2016.0|  2.0|\n",
      "|35.0|              116.0|                    FL|                  FTL|     M|      2.0|      B2|       1.0|2016.0|  2.0|\n",
      "|40.0|              691.0|                    NV|                  MIA|     M|      2.0|      WT|       1.0|2016.0|  2.0|\n",
      "|25.0|              131.0|                    PA|                  WAS|     M|      2.0|      B2|       1.0|2016.0|  2.0|\n",
      "|48.0|              135.0|                    CA|                  LOS|     M|      1.0|      E2|       4.0|2016.0|  2.0|\n",
      "|27.0|              112.0|                    NH|                  BOS|     M|      1.0|      WB|       1.0|2016.0|  2.0|\n",
      "+----+-------------------+----------------------+---------------------+------+---------+--------+----------+------+-----+\n",
      "only showing top 10 rows\n",
      "\n"
     ]
    }
   ],
   "source": [
    "dim_imm.show(10)"
   ]
  },
  {
   "cell_type": "code",
   "execution_count": 12,
   "metadata": {},
   "outputs": [],
   "source": [
    "demographics = spark.read.parquet(\"./output_data/dim_demographics/\")"
   ]
  },
  {
   "cell_type": "code",
   "execution_count": 13,
   "metadata": {},
   "outputs": [],
   "source": [
    "airports = spark.read.parquet(\"./output_data/dim_airports/\")"
   ]
  },
  {
   "cell_type": "code",
   "execution_count": 14,
   "metadata": {},
   "outputs": [],
   "source": [
    "temperatures = spark.read.parquet(\"./output_data/dim_temperatures/\")"
   ]
  },
  {
   "cell_type": "code",
   "execution_count": 15,
   "metadata": {},
   "outputs": [],
   "source": [
    "lkup_city = spark.read.parquet(\"./output_data/lkup_city/\")"
   ]
  },
  {
   "cell_type": "code",
   "execution_count": 16,
   "metadata": {},
   "outputs": [],
   "source": [
    "lkup_state = spark.read.parquet(\"./output_data/lkup_state/\")"
   ]
  },
  {
   "cell_type": "code",
   "execution_count": null,
   "metadata": {},
   "outputs": [],
   "source": []
  },
  {
   "cell_type": "code",
   "execution_count": 13,
   "metadata": {},
   "outputs": [
    {
     "name": "stdout",
     "output_type": "stream",
     "text": [
      "+----------+-----+---+-------+----+------------------+--------+---------+----+\n",
      "|  fulldate|month|day|country|city|averageTemperature|latitude|longitude|year|\n",
      "+----------+-----+---+-------+----+------------------+--------+---------+----+\n",
      "|1908-01-01|    1|  1|  India|Loni|            14.066|  28.13N|   77.27E|1908|\n",
      "|1908-02-01|    2|  1|  India|Loni|            17.477|  28.13N|   77.27E|1908|\n",
      "+----------+-----+---+-------+----+------------------+--------+---------+----+\n",
      "only showing top 2 rows\n",
      "\n"
     ]
    }
   ],
   "source": [
    "temperatures.show(2)"
   ]
  },
  {
   "cell_type": "code",
   "execution_count": 39,
   "metadata": {},
   "outputs": [
    {
     "name": "stdout",
     "output_type": "stream",
     "text": [
      "+-----------+------+\n",
      "|    country| count|\n",
      "+-----------+------+\n",
      "|       Chad|  2728|\n",
      "|   Paraguay|  6820|\n",
      "|     Russia|212784|\n",
      "|      Yemen|  2728|\n",
      "|    Senegal| 10912|\n",
      "|     Sweden|  6820|\n",
      "|     Guyana|  1364|\n",
      "|Philippines| 88660|\n",
      "|      Burma| 27280|\n",
      "|    Eritrea|  1364|\n",
      "|   Djibouti|  1364|\n",
      "|   Malaysia| 43648|\n",
      "|  Singapore|  1364|\n",
      "|     Turkey| 69564|\n",
      "|     Malawi|  2728|\n",
      "|       Iraq|  5456|\n",
      "|    Germany|110484|\n",
      "|   Cambodia|  1364|\n",
      "|Afghanistan| 10912|\n",
      "|     Jordan|  1364|\n",
      "+-----------+------+\n",
      "only showing top 20 rows\n",
      "\n"
     ]
    }
   ],
   "source": [
    "temperatures.groupBy(\"country\").count().show()"
   ]
  },
  {
   "cell_type": "code",
   "execution_count": 16,
   "metadata": {},
   "outputs": [
    {
     "name": "stdout",
     "output_type": "stream",
     "text": [
      "+-----------+----------+------------+-----+---------+----------+-------------+--------------------+--------------------+---------------+------------------+------------+--------+\n",
      "|iso_country|iso_region|municipality|ident|iata_code|local_code|         type|                name|         coordinates|        y_coord|           x_coord|elevation_ft|gps_code|\n",
      "+-----------+----------+------------+-----+---------+----------+-------------+--------------------+--------------------+---------------+------------------+------------+--------+\n",
      "|         US|     US-PA|    Bensalem|  00A|     null|       00A|     heliport|   Total Rf Heliport|-74.9336013793945...| 40.07080078125|-74.93360137939453|          11|     00A|\n",
      "|         US|     US-KS|       Leoti| 00AA|     null|      00AA|small_airport|Aero B Ranch Airport|-101.473911, 38.7...|      38.704022|       -101.473911|        3435|    00AA|\n",
      "+-----------+----------+------------+-----+---------+----------+-------------+--------------------+--------------------+---------------+------------------+------------+--------+\n",
      "only showing top 2 rows\n",
      "\n"
     ]
    }
   ],
   "source": [
    "airports.show(2)"
   ]
  },
  {
   "cell_type": "code",
   "execution_count": 34,
   "metadata": {},
   "outputs": [
    {
     "name": "stdout",
     "output_type": "stream",
     "text": [
      "+--------------+-----+\n",
      "|          type|count|\n",
      "+--------------+-----+\n",
      "| large_airport|  604|\n",
      "|   balloonport|   20|\n",
      "| seaplane_base|  981|\n",
      "|      heliport| 7642|\n",
      "|        closed|  740|\n",
      "|medium_airport| 3946|\n",
      "| small_airport|20955|\n",
      "+--------------+-----+\n",
      "\n"
     ]
    }
   ],
   "source": [
    "airports.groupBy(\"type\").count().show()"
   ]
  },
  {
   "cell_type": "code",
   "execution_count": 17,
   "metadata": {},
   "outputs": [
    {
     "name": "stdout",
     "output_type": "stream",
     "text": [
      "+--------------------+--------+----------------+----------------+--------------------------+-------------------+---------------------------+--------------+---------------+-----------------+------------------+------------------+----------+-----------+----------+\n",
      "|                city|   state|pop_white_counts|pop_asian_counts|pop_native_american_counts|pop_hispanic_counts|pop_african_american_counts|tot_population|male_population|female_population|veteran_population|foreign_population|median_age|avg_hh_size|state_code|\n",
      "+--------------------+--------+----------------+----------------+--------------------------+-------------------+---------------------------+--------------+---------------+-----------------+------------------+------------------+----------+-----------+----------+\n",
      "|Louisville/Jeffer...|Kentucky|          456451|           18601|                      4585|              28712|                     151256|        615389|         298451|           316938|             39364|             37875|      37.5|       2.45|        KY|\n",
      "|Augusta-Richmond ...| Georgia|           77940|            4429|                      1667|               9068|                     112271|        196579|          94662|           101917|             19085|              7915|      33.7|       2.67|        GA|\n",
      "+--------------------+--------+----------------+----------------+--------------------------+-------------------+---------------------------+--------------+---------------+-----------------+------------------+------------------+----------+-----------+----------+\n",
      "only showing top 2 rows\n",
      "\n"
     ]
    }
   ],
   "source": [
    "demographics.show(2)"
   ]
  },
  {
   "cell_type": "code",
   "execution_count": 20,
   "metadata": {},
   "outputs": [
    {
     "name": "stdout",
     "output_type": "stream",
     "text": [
      "+---------+------------------+\n",
      "|city_code|         city_name|\n",
      "+---------+------------------+\n",
      "|      ALC|ALCAN             |\n",
      "|      ANC|ANCHORAGE         |\n",
      "+---------+------------------+\n",
      "only showing top 2 rows\n",
      "\n"
     ]
    }
   ],
   "source": [
    "lkup_city.show(2)"
   ]
  },
  {
   "cell_type": "code",
   "execution_count": 21,
   "metadata": {},
   "outputs": [
    {
     "name": "stdout",
     "output_type": "stream",
     "text": [
      "+----------+----------+\n",
      "|state_code|state_name|\n",
      "+----------+----------+\n",
      "|        AL|   Alabama|\n",
      "|        AK|    Alaska|\n",
      "+----------+----------+\n",
      "only showing top 2 rows\n",
      "\n"
     ]
    }
   ],
   "source": [
    "lkup_state.show(2)"
   ]
  },
  {
   "cell_type": "code",
   "execution_count": 18,
   "metadata": {},
   "outputs": [],
   "source": [
    "dim_imm.createOrReplaceTempView(\"immigration\")\n",
    "demographics.createOrReplaceTempView(\"demographics\")\n",
    "airports.createOrReplaceTempView(\"airports\")\n",
    "temperatures.createOrReplaceTempView(\"temperatures\")\n",
    "lkup_city.createOrReplaceTempView(\"lcity\")\n",
    "lkup_state.createOrReplaceTempView(\"lstate\")"
   ]
  },
  {
   "cell_type": "code",
   "execution_count": 43,
   "metadata": {},
   "outputs": [
    {
     "name": "stdout",
     "output_type": "stream",
     "text": [
      "+----------+-----+---+-------------+-----------+------------------+--------+---------+----+\n",
      "|  fulldate|month|day|      country|       city|averageTemperature|latitude|longitude|year|\n",
      "+----------+-----+---+-------------+-----------+------------------+--------+---------+----+\n",
      "|1908-01-01|    1|  1|United States|Los Angeles|             9.791|  34.56N|  118.70W|1908|\n",
      "|1908-02-01|    2|  1|United States|Los Angeles|             9.032|  34.56N|  118.70W|1908|\n",
      "|1908-03-01|    3|  1|United States|Los Angeles|            11.986|  34.56N|  118.70W|1908|\n",
      "|1908-04-01|    4|  1|United States|Los Angeles|             14.84|  34.56N|  118.70W|1908|\n",
      "|1908-05-01|    5|  1|United States|Los Angeles|             14.79|  34.56N|  118.70W|1908|\n",
      "|1908-06-01|    6|  1|United States|Los Angeles|            18.109|  34.56N|  118.70W|1908|\n",
      "|1908-07-01|    7|  1|United States|Los Angeles|            23.991|  34.56N|  118.70W|1908|\n",
      "|1908-08-01|    8|  1|United States|Los Angeles|            23.135|  34.56N|  118.70W|1908|\n",
      "|1908-09-01|    9|  1|United States|Los Angeles|20.743000000000002|  34.56N|  118.70W|1908|\n",
      "|1908-10-01|   10|  1|United States|Los Angeles|            15.232|  34.56N|  118.70W|1908|\n",
      "|1908-11-01|   11|  1|United States|Los Angeles|            12.196|  34.56N|  118.70W|1908|\n",
      "|1908-12-01|   12|  1|United States|Los Angeles|             8.183|  34.56N|  118.70W|1908|\n",
      "|1908-01-01|    1|  1|United States| Louisville|             1.099|  37.78N|   85.42W|1908|\n",
      "|1908-02-01|    2|  1|United States| Louisville|1.3459999999999999|  37.78N|   85.42W|1908|\n",
      "|1908-03-01|    3|  1|United States| Louisville|            10.475|  37.78N|   85.42W|1908|\n",
      "|1908-04-01|    4|  1|United States| Louisville|             13.46|  37.78N|   85.42W|1908|\n",
      "|1908-05-01|    5|  1|United States| Louisville|            18.913|  37.78N|   85.42W|1908|\n",
      "|1908-06-01|    6|  1|United States| Louisville|            22.568|  37.78N|   85.42W|1908|\n",
      "|1908-07-01|    7|  1|United States| Louisville|            24.601|  37.78N|   85.42W|1908|\n",
      "|1908-08-01|    8|  1|United States| Louisville|             24.17|  37.78N|   85.42W|1908|\n",
      "+----------+-----+---+-------------+-----------+------------------+--------+---------+----+\n",
      "only showing top 20 rows\n",
      "\n"
     ]
    }
   ],
   "source": [
    "spark.sql(\"\"\"\n",
    "    select *\n",
    "    from temperatures\n",
    "    where country like '%United%States%'\n",
    "\"\"\").show()"
   ]
  },
  {
   "cell_type": "code",
   "execution_count": 46,
   "metadata": {},
   "outputs": [
    {
     "name": "stdout",
     "output_type": "stream",
     "text": [
      "-RECORD 0-----------------------------------------\n",
      " age                         | 40.0               \n",
      " origin_country_code         | 103.0              \n",
      " destination_state_code      | TN                 \n",
      " destination_city_code       | CLT                \n",
      " gender                      | M                  \n",
      " visa_code                   | 1.0                \n",
      " visatype                    | B1                 \n",
      " i94_counts                  | 1.0                \n",
      " year                        | 2016.0             \n",
      " month                       | 2.0                \n",
      " city_name                   | CHARLOTTE          \n",
      " state_name                  | Tennessee          \n",
      " state_code                  | TN                 \n",
      " pop_white_counts            | 1253142.0          \n",
      " pop_asian_counts            | 73024.0            \n",
      " pop_native_american_counts  | 17638.0            \n",
      " pop_hispanic_counts         | 167962.0           \n",
      " pop_african_american_counts | 810758.0           \n",
      " tot_population              | 2152560.0          \n",
      " male_population             | 1031836.0          \n",
      " female_population           | 1120724.0          \n",
      " veteran_population          | 117901.0           \n",
      " foreign_population          | 181405.0           \n",
      " airportcount                | 11                 \n",
      " averageTemperature          | null               \n",
      "-RECORD 1-----------------------------------------\n",
      " age                         | 24.0               \n",
      " origin_country_code         | 107.0              \n",
      " destination_state_code      | WI                 \n",
      " destination_city_code       | CHI                \n",
      " gender                      | M                  \n",
      " visa_code                   | 2.0                \n",
      " visatype                    | B2                 \n",
      " i94_counts                  | 1.0                \n",
      " year                        | 2016.0             \n",
      " month                       | 2.0                \n",
      " city_name                   | CHICAGO            \n",
      " state_name                  | Wisconsin          \n",
      " state_code                  | WI                 \n",
      " pop_white_counts            | 974433.0           \n",
      " pop_asian_counts            | 73982.0            \n",
      " pop_native_american_counts  | 24720.0            \n",
      " pop_hispanic_counts         | 202117.0           \n",
      " pop_african_american_counts | 316896.0           \n",
      " tot_population              | 1413145.0          \n",
      " male_population             | 688803.0           \n",
      " female_population           | 724342.0           \n",
      " veteran_population          | 61134.0            \n",
      " foreign_population          | 124687.0           \n",
      " airportcount                | null               \n",
      " averageTemperature          | null               \n",
      "-RECORD 2-----------------------------------------\n",
      " age                         | 28.0               \n",
      " origin_country_code         | 108.0              \n",
      " destination_state_code      | MI                 \n",
      " destination_city_code       | TUC                \n",
      " gender                      | M                  \n",
      " visa_code                   | 2.0                \n",
      " visatype                    | WT                 \n",
      " i94_counts                  | 1.0                \n",
      " year                        | 2016.0             \n",
      " month                       | 2.0                \n",
      " city_name                   | TUCSON             \n",
      " state_name                  | Michigan           \n",
      " state_code                  | MI                 \n",
      " pop_white_counts            | 1214721.0          \n",
      " pop_asian_counts            | 125172.0           \n",
      " pop_native_american_counts  | 27962.0            \n",
      " pop_hispanic_counts         | 149932.0           \n",
      " pop_african_american_counts | 853877.0           \n",
      " tot_population              | 2203460.0          \n",
      " male_population             | 1056446.0          \n",
      " female_population           | 1147014.0          \n",
      " veteran_population          | 99481.0            \n",
      " foreign_population          | 249772.0           \n",
      " airportcount                | null               \n",
      " averageTemperature          | null               \n",
      "only showing top 3 rows\n",
      "\n"
     ]
    }
   ],
   "source": [
    "spark.sql(\"\"\"\n",
    "    select i.*\n",
    "          ,lcity.city_name\n",
    "          ,lstate.state_name\n",
    "          ,d.*\n",
    "          ,a.airportcount  \n",
    "          ,t.averageTemperature\n",
    "    from immigration as i\n",
    "    join lcity on i.destination_city_code = lcity.city_code\n",
    "    join lstate on i.destination_state_code = lstate.state_code\n",
    "    left join (\n",
    "        select state_code\n",
    "              ,sum(pop_white_counts) as pop_white_counts\n",
    "              ,sum(pop_asian_counts) as pop_asian_counts\n",
    "              ,sum(pop_native_american_counts) as pop_native_american_counts\n",
    "              ,sum(pop_hispanic_counts) as pop_hispanic_counts\n",
    "              ,sum(pop_african_american_counts) as pop_african_american_counts \n",
    "              ,sum(tot_population) as tot_population\n",
    "              ,sum(male_population) as male_population\n",
    "              ,sum(female_population) as female_population\n",
    "              ,sum(veteran_population) as veteran_population\n",
    "              ,sum(foreign_population) as foreign_population\n",
    "        from demographics\n",
    "        group by state_code\n",
    "    ) as d on i.destination_state_code = d.state_code\n",
    "    left join (\n",
    "        select SUBSTRING_INDEX(iso_region,'-',1) as state\n",
    "              ,count(*) as airportcount\n",
    "        from airports\n",
    "        group by state\n",
    "    ) as a\n",
    "        on i.destination_state_code = a.state\n",
    "    left join (\n",
    "        select *\n",
    "        from temperatures\n",
    "        where country like '%United%States%'\n",
    "    ) as t\n",
    "        on i.year = t.year and i.month = t.month\n",
    "\"\"\").show(3, vertical=True)"
   ]
  },
  {
   "cell_type": "code",
   "execution_count": null,
   "metadata": {},
   "outputs": [],
   "source": []
  }
 ],
 "metadata": {
  "kernelspec": {
   "display_name": "Python 3",
   "language": "python",
   "name": "python3"
  },
  "language_info": {
   "codemirror_mode": {
    "name": "ipython",
    "version": 3
   },
   "file_extension": ".py",
   "mimetype": "text/x-python",
   "name": "python",
   "nbconvert_exporter": "python",
   "pygments_lexer": "ipython3",
   "version": "3.6.3"
  },
  "nteract": {
   "version": "0.15.0"
  }
 },
 "nbformat": 4,
 "nbformat_minor": 4
}
