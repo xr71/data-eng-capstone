{
 "cells": [
  {
   "cell_type": "code",
   "execution_count": 1,
   "metadata": {},
   "outputs": [],
   "source": [
    "from pyspark.sql import SparkSession\n",
    "spark = SparkSession.builder.\\\n",
    "config(\"spark.jars.packages\",\"saurfang:spark-sas7bdat:2.0.0-s_2.11\")\\\n",
    ".enableHiveSupport().getOrCreate()"
   ]
  },
  {
   "cell_type": "code",
   "execution_count": 2,
   "metadata": {},
   "outputs": [],
   "source": [
    "import os\n",
    "import glob"
   ]
  },
  {
   "cell_type": "code",
   "execution_count": 4,
   "metadata": {},
   "outputs": [
    {
     "name": "stdout",
     "output_type": "stream",
     "text": [
      "668421\n",
      "953197\n",
      "806559\n",
      "1030225\n",
      "755359\n",
      "1058405\n",
      "1062875\n",
      "783442\n",
      "805419\n",
      "904307\n",
      "898359\n",
      "910706\n"
     ]
    }
   ],
   "source": [
    "for month in os.listdir(\"./output_data/dim_immigration/\"):\n",
    "    tmp = spark.read.parquet(os.path.join(\"./output_data/dim_immigration/\", month))\n",
    "    print(tmp.count())"
   ]
  },
  {
   "cell_type": "code",
   "execution_count": 5,
   "metadata": {},
   "outputs": [],
   "source": [
    "months_dfs = []\n",
    "\n",
    "for month in os.listdir(\"./output_data/dim_immigration/\"):\n",
    "    tmp = spark.read.parquet(os.path.join(\"./output_data/dim_immigration/\", month))\n",
    "    months_dfs.append(tmp)"
   ]
  },
  {
   "cell_type": "code",
   "execution_count": 9,
   "metadata": {},
   "outputs": [],
   "source": [
    "from functools import reduce\n",
    "from pyspark.sql import DataFrame"
   ]
  },
  {
   "cell_type": "code",
   "execution_count": 10,
   "metadata": {},
   "outputs": [],
   "source": [
    "dim_imm = reduce(DataFrame.unionAll, months_dfs)"
   ]
  },
  {
   "cell_type": "code",
   "execution_count": 11,
   "metadata": {},
   "outputs": [
    {
     "data": {
      "text/plain": [
       "10637274"
      ]
     },
     "execution_count": 11,
     "metadata": {},
     "output_type": "execute_result"
    }
   ],
   "source": [
    "dim_imm.count()"
   ]
  },
  {
   "cell_type": "code",
   "execution_count": 13,
   "metadata": {},
   "outputs": [
    {
     "name": "stdout",
     "output_type": "stream",
     "text": [
      "+-----+-------+\n",
      "|month|  count|\n",
      "+-----+-------+\n",
      "|  8.0|1030225|\n",
      "|  7.0|1058405|\n",
      "|  1.0| 783442|\n",
      "|  4.0|1062875|\n",
      "| 11.0| 755359|\n",
      "|  3.0| 805419|\n",
      "|  2.0| 668421|\n",
      "| 10.0| 910706|\n",
      "|  6.0| 953197|\n",
      "|  5.0| 904307|\n",
      "|  9.0| 898359|\n",
      "| 12.0| 806559|\n",
      "+-----+-------+\n",
      "\n"
     ]
    }
   ],
   "source": [
    "dim_imm.groupBy(\"month\").count().show()"
   ]
  },
  {
   "cell_type": "code",
   "execution_count": 14,
   "metadata": {},
   "outputs": [
    {
     "name": "stdout",
     "output_type": "stream",
     "text": [
      "+----+-------------------+----------------------+---------------------+------+---------+--------+----------+------+-----+\n",
      "| age|origin_country_code|destination_state_code|destination_city_code|gender|visa_code|visatype|i94_counts|  year|month|\n",
      "+----+-------------------+----------------------+---------------------+------+---------+--------+----------+------+-----+\n",
      "|34.0|              245.0|                    CA|                  SFR|     F|      2.0|      B2|     161.0|2016.0| 12.0|\n",
      "|44.0|              582.0|                    OH|                  LAR|     M|      1.0|      B1|       4.0|2016.0| 12.0|\n",
      "+----+-------------------+----------------------+---------------------+------+---------+--------+----------+------+-----+\n",
      "only showing top 2 rows\n",
      "\n"
     ]
    }
   ],
   "source": [
    "dim_imm.show(2)"
   ]
  },
  {
   "cell_type": "code",
   "execution_count": null,
   "metadata": {},
   "outputs": [],
   "source": []
  }
 ],
 "metadata": {
  "kernelspec": {
   "display_name": "Python 3",
   "language": "python",
   "name": "python3"
  },
  "language_info": {
   "codemirror_mode": {
    "name": "ipython",
    "version": 3
   },
   "file_extension": ".py",
   "mimetype": "text/x-python",
   "name": "python",
   "nbconvert_exporter": "python",
   "pygments_lexer": "ipython3",
   "version": "3.6.3"
  }
 },
 "nbformat": 4,
 "nbformat_minor": 4
}
